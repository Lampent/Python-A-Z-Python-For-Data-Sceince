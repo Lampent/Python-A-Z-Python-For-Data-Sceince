{
 "cells": [
  {
   "cell_type": "markdown",
   "id": "experienced-iraqi",
   "metadata": {},
   "source": [
    "### Lists"
   ]
  },
  {
   "cell_type": "code",
   "execution_count": 2,
   "id": "medical-gnome",
   "metadata": {},
   "outputs": [
    {
     "data": {
      "text/plain": [
       "[1, 2, 3]"
      ]
     },
     "execution_count": 2,
     "metadata": {},
     "output_type": "execute_result"
    }
   ],
   "source": [
    "l1 = [1, 2, 3]\n",
    "l1"
   ]
  },
  {
   "cell_type": "code",
   "execution_count": 5,
   "id": "binding-permission",
   "metadata": {},
   "outputs": [
    {
     "data": {
      "text/plain": [
       "['test', 2, None]"
      ]
     },
     "execution_count": 5,
     "metadata": {},
     "output_type": "execute_result"
    }
   ],
   "source": [
    "l2 = [\"test\", 2, None]\n",
    "l2"
   ]
  },
  {
   "cell_type": "code",
   "execution_count": 6,
   "id": "extended-medication",
   "metadata": {},
   "outputs": [
    {
     "data": {
      "text/plain": [
       "[1, 2, ['test', 2, None]]"
      ]
     },
     "execution_count": 6,
     "metadata": {},
     "output_type": "execute_result"
    }
   ],
   "source": [
    "l3 = [1,2,l2]\n",
    "l3"
   ]
  },
  {
   "cell_type": "code",
   "execution_count": 9,
   "id": "usual-eclipse",
   "metadata": {},
   "outputs": [
    {
     "data": {
      "text/plain": [
       "range(0, 15)"
      ]
     },
     "execution_count": 9,
     "metadata": {},
     "output_type": "execute_result"
    }
   ],
   "source": [
    "## This was changed in python 3 becuse in many cases we don't want to save a list in memory\n",
    "## to iterate over a sequence of values\n",
    "range(0,15)"
   ]
  },
  {
   "cell_type": "code",
   "execution_count": 8,
   "id": "optional-professional",
   "metadata": {},
   "outputs": [
    {
     "data": {
      "text/plain": [
       "[0, 1, 2, 3, 4, 5, 6, 7, 8, 9, 10, 11, 12, 13, 14]"
      ]
     },
     "execution_count": 8,
     "metadata": {},
     "output_type": "execute_result"
    }
   ],
   "source": [
    "list(range(0, 15))"
   ]
  },
  {
   "cell_type": "code",
   "execution_count": 14,
   "id": "transparent-brick",
   "metadata": {},
   "outputs": [
    {
     "data": {
      "text/plain": [
       "[100, 110, 120, 130, 140, 150, 160, 170, 180, 190]"
      ]
     },
     "execution_count": 14,
     "metadata": {},
     "output_type": "execute_result"
    }
   ],
   "source": [
    "list(range(100,200,10))"
   ]
  },
  {
   "cell_type": "markdown",
   "id": "center-vatican",
   "metadata": {},
   "source": [
    "---"
   ]
  },
  {
   "cell_type": "code",
   "execution_count": 32,
   "id": "incident-transportation",
   "metadata": {},
   "outputs": [
    {
     "name": "stdout",
     "output_type": "stream",
     "text": [
      "Forth letter in index 4: e\n",
      "Forth letter in index 4: e\n",
      "Length is: 6\n",
      "Forth letter in index 4: 10\n"
     ]
    }
   ],
   "source": [
    "letters = ['a','b','c','d','e','f']\n",
    "print(\"Forth letter in index 4: \" + letters[4])\n",
    "print(\"Forth letter in index 4:\", letters[-2])\n",
    "print(\"Length is:\", len(letters))\n",
    "letters[-2] = 10\n",
    "print(\"Forth letter in index 4:\", letters[-2])\n"
   ]
  },
  {
   "cell_type": "markdown",
   "id": "statistical-extent",
   "metadata": {},
   "source": [
    "#### Slicing"
   ]
  },
  {
   "cell_type": "code",
   "execution_count": 33,
   "id": "labeled-syndicate",
   "metadata": {},
   "outputs": [],
   "source": [
    "ls4 = ['C','D', 'E', 'F', 'G']"
   ]
  },
  {
   "cell_type": "code",
   "execution_count": 66,
   "id": "numerous-shipping",
   "metadata": {},
   "outputs": [
    {
     "name": "stdout",
     "output_type": "stream",
     "text": [
      "[199, 189, 179, 169, 159, 149, 139, 129, 119, 109, 99, 89, 79, 69, 59, 49, 39, 29, 19, 9]\n",
      "[179, 169]\n",
      "[29, 19]\n",
      "[0, 10, 20, 30, 40, 50, 60, 70, 80, 90, 100, 110, 120, 130, 140, 150, 160, 170, 180, 190]\n",
      "[0, 10, 20, 30, 40, 50, 60, 70, 80, 90, 100, 110, 120, 130, 140, 150, 160, 170, 180, 190]\n",
      "[199, 189, 179, 169, 159, 149, 139, 129, 119, 109, 99, 89, 79, 69, 59, 49, 39, 29, 19, 9]\n"
     ]
    }
   ],
   "source": [
    "print(ls4[:]) ## All element\n",
    "print(ls4[2:4]) ## Elements from index 2 (including) until index 4 (excluding)\n",
    "print(ls4[-3:-1]) ## Same as above\n",
    "\n",
    "ls4 = list(range(0,200))\n",
    "ls4 = ls4[0 : 201: 10] ## slicing with a jump of 10\n",
    "print(ls4)\n",
    "\n",
    "ls4 = list(range(0,200))\n",
    "ls4 = ls4[:: 10] ## slicing with a jump of 10, same as above\n",
    "print(ls4)\n",
    "\n",
    "ls4 = list(range(0,200))\n",
    "ls4 = ls4[:: -10] ## slicing with a jump of 10, same as above but reversed!\n",
    "print(ls4)\n",
    "\n",
    "## to reverse list use [::-1]\n",
    "\n"
   ]
  },
  {
   "cell_type": "markdown",
   "id": "mathematical-pattern",
   "metadata": {},
   "source": [
    "#### Tuples = immutable list"
   ]
  },
  {
   "cell_type": "code",
   "execution_count": 68,
   "id": "numerous-fabric",
   "metadata": {},
   "outputs": [],
   "source": [
    "tl = (100, 200, 300)"
   ]
  },
  {
   "cell_type": "code",
   "execution_count": 69,
   "id": "lasting-currency",
   "metadata": {},
   "outputs": [
    {
     "data": {
      "text/plain": [
       "200"
      ]
     },
     "execution_count": 69,
     "metadata": {},
     "output_type": "execute_result"
    }
   ],
   "source": [
    "tl[1]"
   ]
  },
  {
   "cell_type": "code",
   "execution_count": 71,
   "id": "suffering-antique",
   "metadata": {},
   "outputs": [
    {
     "ename": "TypeError",
     "evalue": "'tuple' object does not support item assignment",
     "output_type": "error",
     "traceback": [
      "\u001b[1;31m---------------------------------------------------------------------------\u001b[0m",
      "\u001b[1;31mTypeError\u001b[0m                                 Traceback (most recent call last)",
      "\u001b[1;32m<ipython-input-71-f1dba14c9c47>\u001b[0m in \u001b[0;36m<module>\u001b[1;34m\u001b[0m\n\u001b[1;32m----> 1\u001b[1;33m \u001b[0mtl\u001b[0m\u001b[1;33m[\u001b[0m\u001b[1;36m1\u001b[0m\u001b[1;33m]\u001b[0m \u001b[1;33m=\u001b[0m \u001b[1;36m33\u001b[0m \u001b[1;31m## Can not change\u001b[0m\u001b[1;33m\u001b[0m\u001b[1;33m\u001b[0m\u001b[0m\n\u001b[0m",
      "\u001b[1;31mTypeError\u001b[0m: 'tuple' object does not support item assignment"
     ]
    }
   ],
   "source": [
    "tl[1] = 33 ## Can not change"
   ]
  },
  {
   "cell_type": "markdown",
   "id": "coordinate-bicycle",
   "metadata": {},
   "source": [
    "#### Arrays"
   ]
  },
  {
   "cell_type": "code",
   "execution_count": 80,
   "id": "signal-reviewer",
   "metadata": {},
   "outputs": [],
   "source": [
    "import numpy as np"
   ]
  },
  {
   "cell_type": "code",
   "execution_count": 98,
   "id": "activated-purple",
   "metadata": {},
   "outputs": [
    {
     "name": "stdout",
     "output_type": "stream",
     "text": [
      "[ 0  1  2  3  4  5  6  7  8  9 10]\n",
      "['test' '1' '2' '3' '4' '5' '6' '7' '8' '9' '10']\n"
     ]
    }
   ],
   "source": [
    "## In arrays we can not have multiple data types in lists\n",
    "## Slicing works in arrays the same way it works in lists\n",
    "ls = list(range(0,11))\n",
    "print(np.array(ls))\n",
    "ls[0] = 'test'\n",
    "print(np.array(ls))"
   ]
  },
  {
   "cell_type": "code",
   "execution_count": 99,
   "id": "authentic-gothic",
   "metadata": {},
   "outputs": [
    {
     "data": {
      "text/plain": [
       "5.0"
      ]
     },
     "execution_count": 99,
     "metadata": {},
     "output_type": "execute_result"
    }
   ],
   "source": [
    "ls[0] = 0\n",
    "np.array(ls).mean()"
   ]
  },
  {
   "cell_type": "markdown",
   "id": "after-insulin",
   "metadata": {},
   "source": [
    "####  With lists slicing resolves new value, with arrays its the same reference"
   ]
  },
  {
   "cell_type": "code",
   "execution_count": 104,
   "id": "similar-bicycle",
   "metadata": {},
   "outputs": [
    {
     "name": "stdout",
     "output_type": "stream",
     "text": [
      "Original list [0, 1, 2, 3, 4, 5, 6, 7, 8, 9, 10] Sliced list [0, 2, 333, 6, 8, 10]\n",
      "Original array [  0   1   2   3 333   5   6   7   8   9  10] Sliced array [  0   2 333   6   8  10]\n"
     ]
    }
   ],
   "source": [
    "ls = list(range(0,11))\n",
    "sliced_ls = ls[::2]\n",
    "sliced_ls[2] = 333\n",
    "\n",
    "print(\"Original list\", ls, \"Sliced list\", sliced_ls)\n",
    "\n",
    "arr = np.array(ls) \n",
    "sliced_arr = arr[::2]\n",
    "sliced_arr[2] = 333\n",
    "print(\"Original array\", arr, \"Sliced array\", sliced_arr)\n"
   ]
  },
  {
   "cell_type": "code",
   "execution_count": 118,
   "id": "sacred-officer",
   "metadata": {},
   "outputs": [
    {
     "name": "stdout",
     "output_type": "stream",
     "text": [
      "[ True  True False]\n"
     ]
    },
    {
     "data": {
      "text/plain": [
       "False"
      ]
     },
     "execution_count": 118,
     "metadata": {},
     "output_type": "execute_result"
    }
   ],
   "source": [
    "tpl1 = np.array([1,2,3])\n",
    "print((tpl1 == np.array([1,2,33])))\n",
    "(tpl1 == np.array([1,2,33])).all()"
   ]
  },
  {
   "cell_type": "code",
   "execution_count": null,
   "id": "institutional-dublin",
   "metadata": {},
   "outputs": [],
   "source": []
  }
 ],
 "metadata": {
  "kernelspec": {
   "display_name": "Python 3",
   "language": "python",
   "name": "python3"
  },
  "language_info": {
   "codemirror_mode": {
    "name": "ipython",
    "version": 3
   },
   "file_extension": ".py",
   "mimetype": "text/x-python",
   "name": "python",
   "nbconvert_exporter": "python",
   "pygments_lexer": "ipython3",
   "version": "3.9.2"
  }
 },
 "nbformat": 4,
 "nbformat_minor": 5
}
