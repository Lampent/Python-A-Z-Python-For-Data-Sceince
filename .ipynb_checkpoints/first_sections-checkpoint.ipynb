{
 "cells": [
  {
   "cell_type": "code",
   "execution_count": 4,
   "id": "approximate-round",
   "metadata": {},
   "outputs": [],
   "source": [
    "#Integer\n",
    "x = 2"
   ]
  },
  {
   "cell_type": "code",
   "execution_count": 5,
   "id": "figured-schedule",
   "metadata": {},
   "outputs": [
    {
     "data": {
      "text/plain": [
       "2"
      ]
     },
     "execution_count": 5,
     "metadata": {},
     "output_type": "execute_result"
    }
   ],
   "source": [
    "x"
   ]
  },
  {
   "cell_type": "code",
   "execution_count": 6,
   "id": "thrown-opening",
   "metadata": {},
   "outputs": [
    {
     "data": {
      "text/plain": [
       "int"
      ]
     },
     "execution_count": 6,
     "metadata": {},
     "output_type": "execute_result"
    }
   ],
   "source": [
    "type(x)"
   ]
  },
  {
   "cell_type": "markdown",
   "id": "checked-england",
   "metadata": {},
   "source": [
    "---"
   ]
  },
  {
   "cell_type": "code",
   "execution_count": 7,
   "id": "indonesian-conjunction",
   "metadata": {},
   "outputs": [],
   "source": [
    "#Float (double1)\n",
    "y = 2.5"
   ]
  },
  {
   "cell_type": "code",
   "execution_count": 8,
   "id": "spectacular-dictionary",
   "metadata": {},
   "outputs": [
    {
     "data": {
      "text/plain": [
       "2.5"
      ]
     },
     "execution_count": 8,
     "metadata": {},
     "output_type": "execute_result"
    }
   ],
   "source": [
    "y"
   ]
  },
  {
   "cell_type": "code",
   "execution_count": 9,
   "id": "harmful-polish",
   "metadata": {},
   "outputs": [
    {
     "data": {
      "text/plain": [
       "float"
      ]
     },
     "execution_count": 9,
     "metadata": {},
     "output_type": "execute_result"
    }
   ],
   "source": [
    "type(y)"
   ]
  },
  {
   "cell_type": "markdown",
   "id": "sensitive-affiliate",
   "metadata": {},
   "source": [
    "---"
   ]
  },
  {
   "cell_type": "code",
   "execution_count": 12,
   "id": "centered-provision",
   "metadata": {},
   "outputs": [],
   "source": [
    "#String\n",
    "a = \"hello\""
   ]
  },
  {
   "cell_type": "code",
   "execution_count": 13,
   "id": "beautiful-conspiracy",
   "metadata": {},
   "outputs": [
    {
     "data": {
      "text/plain": [
       "'hello'"
      ]
     },
     "execution_count": 13,
     "metadata": {},
     "output_type": "execute_result"
    }
   ],
   "source": [
    "a"
   ]
  },
  {
   "cell_type": "code",
   "execution_count": 14,
   "id": "contained-blair",
   "metadata": {},
   "outputs": [
    {
     "data": {
      "text/plain": [
       "str"
      ]
     },
     "execution_count": 14,
     "metadata": {},
     "output_type": "execute_result"
    }
   ],
   "source": [
    "type(a)"
   ]
  },
  {
   "cell_type": "markdown",
   "id": "square-sacrifice",
   "metadata": {},
   "source": [
    "---"
   ]
  },
  {
   "cell_type": "code",
   "execution_count": 17,
   "id": "adjacent-attribute",
   "metadata": {},
   "outputs": [],
   "source": [
    "#Logical (boolean)\n",
    "q1 = True"
   ]
  },
  {
   "cell_type": "code",
   "execution_count": 18,
   "id": "according-header",
   "metadata": {},
   "outputs": [
    {
     "data": {
      "text/plain": [
       "True"
      ]
     },
     "execution_count": 18,
     "metadata": {},
     "output_type": "execute_result"
    }
   ],
   "source": [
    "q1"
   ]
  },
  {
   "cell_type": "code",
   "execution_count": 19,
   "id": "military-differential",
   "metadata": {},
   "outputs": [
    {
     "data": {
      "text/plain": [
       "bool"
      ]
     },
     "execution_count": 19,
     "metadata": {},
     "output_type": "execute_result"
    }
   ],
   "source": [
    "type(q1)"
   ]
  },
  {
   "cell_type": "markdown",
   "id": "subsequent-thousand",
   "metadata": {},
   "source": [
    "---"
   ]
  },
  {
   "cell_type": "markdown",
   "id": "threaded-connection",
   "metadata": {},
   "source": [
    "## Diffrences between python 2.7 and python 3.x"
   ]
  },
  {
   "cell_type": "markdown",
   "id": "micro-society",
   "metadata": {},
   "source": [
    "### Printing"
   ]
  },
  {
   "cell_type": "markdown",
   "id": "inclusive-block",
   "metadata": {},
   "source": [
    "c = 5 <br>\n",
    "Python 2.7, print is a statment - `print C` <br>\n",
    "Python 3.X, print is a function we call and pass C to - `print(C)`"
   ]
  },
  {
   "cell_type": "markdown",
   "id": "fleet-completion",
   "metadata": {},
   "source": [
    "### Arithmetics"
   ]
  },
  {
   "cell_type": "markdown",
   "id": "distinguished-praise",
   "metadata": {},
   "source": [
    "X = 5<br>\n",
    "Y = 10<br>\n",
    "B = X/Y<br>\n",
    "Python 2.7, `B` will be equal to `0`, deviation of two integers would ignore floating point.<br>\n",
    "Python 3.X, `B` will be equal to `0.5`, deviation of two integers would not ignore floating points<br>"
   ]
  },
  {
   "cell_type": "markdown",
   "id": "portable-advantage",
   "metadata": {},
   "source": [
    "### Range"
   ]
  },
  {
   "cell_type": "markdown",
   "id": "isolated-progress",
   "metadata": {},
   "source": [
    "Python 2.X `type(range(5))` will be of type `list` <br>\n",
    "Python 3.4 `type(range(5))` will be of type `range` and to parse it to a list we will use `list(range(5))`\n",
    "Python 3.5 `type(range(5))` will be of type `range` and to parse it to a list we will use `[*range(5)]`"
   ]
  },
  {
   "cell_type": "markdown",
   "id": "turkish-immune",
   "metadata": {},
   "source": [
    "---"
   ]
  },
  {
   "cell_type": "markdown",
   "id": "historical-browse",
   "metadata": {},
   "source": [
    "### Import"
   ]
  },
  {
   "cell_type": "code",
   "execution_count": 23,
   "id": "worldwide-address",
   "metadata": {},
   "outputs": [],
   "source": [
    "import math"
   ]
  },
  {
   "cell_type": "code",
   "execution_count": 27,
   "id": "waiting-corner",
   "metadata": {},
   "outputs": [],
   "source": [
    "A = 10"
   ]
  },
  {
   "cell_type": "code",
   "execution_count": 28,
   "id": "commercial-senegal",
   "metadata": {},
   "outputs": [
    {
     "data": {
      "text/plain": [
       "3.1622776601683795"
      ]
     },
     "execution_count": 28,
     "metadata": {},
     "output_type": "execute_result"
    }
   ],
   "source": [
    "math.sqrt(10)"
   ]
  },
  {
   "cell_type": "markdown",
   "id": "square-observer",
   "metadata": {},
   "source": [
    "---"
   ]
  },
  {
   "cell_type": "markdown",
   "id": "owned-nicaragua",
   "metadata": {},
   "source": [
    "## Logical / Boolean"
   ]
  },
  {
   "cell_type": "markdown",
   "id": "infinite-description",
   "metadata": {},
   "source": [
    "Logical operators\n",
    "<ul>\n",
    "    <li>==</li>\n",
    "    <li>!=  (Also $<>$ on python 2.X)</li>\n",
    "    <li>></li>\n",
    "    <li>$<$</li>\n",
    "    <li>>=</li>\n",
    "    <li>$<$=</li>\n",
    "    <li>and</li>\n",
    "    <li>or</li>\n",
    "    <li>not</li>\n",
    "</ul>"
   ]
  },
  {
   "cell_type": "code",
   "execution_count": 51,
   "id": "specified-latin",
   "metadata": {},
   "outputs": [
    {
     "name": "stdout",
     "output_type": "stream",
     "text": [
      "X == B  False\n",
      "not(X == B) True\n"
     ]
    }
   ],
   "source": [
    "X = True\n",
    "B = False\n",
    "## only in python 2.X T = 10 <> 20\n",
    "print(\"X == B \", X == B)\n",
    "print(\"not(X == B)\", not(X == B))\n",
    "## print(\"3 <> 3\", T)\n",
    "\n"
   ]
  },
  {
   "cell_type": "markdown",
   "id": "sealed-arlington",
   "metadata": {},
   "source": [
    "---"
   ]
  },
  {
   "cell_type": "markdown",
   "id": "convenient-christianity",
   "metadata": {},
   "source": [
    "### Loops"
   ]
  },
  {
   "cell_type": "markdown",
   "id": "exterior-discretion",
   "metadata": {},
   "source": [
    "In python there is no use of curly brackets, its uses indentation (Tabs)"
   ]
  },
  {
   "cell_type": "code",
   "execution_count": 3,
   "id": "prescribed-robert",
   "metadata": {},
   "outputs": [
    {
     "data": {
      "text/plain": [
       "10"
      ]
     },
     "execution_count": 3,
     "metadata": {},
     "output_type": "execute_result"
    }
   ],
   "source": [
    "counter = 0\n",
    "while counter < 10:\n",
    "    counter += 1\n",
    "counter"
   ]
  },
  {
   "cell_type": "code",
   "execution_count": 7,
   "id": "passing-desire",
   "metadata": {},
   "outputs": [
    {
     "name": "stdout",
     "output_type": "stream",
     "text": [
      "Hello Python  0\n",
      "Hello Python  1\n",
      "Hello Python  2\n"
     ]
    }
   ],
   "source": [
    "for i in range(3):\n",
    "    print(\"Hello Python \", i)"
   ]
  },
  {
   "cell_type": "code",
   "execution_count": 8,
   "id": "beautiful-handling",
   "metadata": {},
   "outputs": [
    {
     "name": "stdout",
     "output_type": "stream",
     "text": [
      "Item equals to  10\n",
      "Item equals to  100\n",
      "Item equals to  1000\n"
     ]
    }
   ],
   "source": [
    "list = [10, 100, 1000]\n",
    "for item in list:\n",
    "    print(\"Item equals to \", item)"
   ]
  },
  {
   "cell_type": "markdown",
   "id": "stupid-health",
   "metadata": {},
   "source": [
    "---"
   ]
  },
  {
   "cell_type": "markdown",
   "id": "mediterranean-criminal",
   "metadata": {},
   "source": [
    "### If statements"
   ]
  },
  {
   "cell_type": "code",
   "execution_count": 174,
   "id": "loved-giant",
   "metadata": {},
   "outputs": [
    {
     "data": {
      "text/plain": [
       "'X is between -1 and 1'"
      ]
     },
     "execution_count": 174,
     "metadata": {},
     "output_type": "execute_result"
    }
   ],
   "source": [
    "import numpy as np\n",
    "from numpy.random import randn\n",
    "## randn is a method that generates random numbers based on normal distribution (Gaussian)\n",
    "answer = None\n",
    "x = randn()\n",
    "if x > 1:\n",
    "    answer = \"X value is greater then 1\"\n",
    "elif x < - 1:\n",
    "    answer = \"X value is smaller then -1\"\n",
    "else:\n",
    "    answer = \"X value is between -1 and 1\"\n",
    "    \n",
    "answer"
   ]
  },
  {
   "cell_type": "markdown",
   "id": "forbidden-clark",
   "metadata": {},
   "source": [
    "### LLN - Law of Large Numbers"
   ]
  },
  {
   "cell_type": "code",
   "execution_count": 194,
   "id": "operating-pursuit",
   "metadata": {},
   "outputs": [
    {
     "name": "stdout",
     "output_type": "stream",
     "text": [
      "The expected value of the E(x), where E is a method that generates a random number based on normal distribution, is 0.68\n",
      "As the Law of Large Numbers works, as we will increase the number of samples N the E(x) will converge to 0.68\n",
      "\n",
      "\n",
      "\n",
      "\n",
      "60.0  precents of the numbers fall between -1 and 1 when n equals  10\n",
      "73.0  precents of the numbers fall between -1 and 1 when n equals  100\n",
      "68.5  precents of the numbers fall between -1 and 1 when n equals  1000\n",
      "68.66  precents of the numbers fall between -1 and 1 when n equals  10000\n",
      "68.35  precents of the numbers fall between -1 and 1 when n equals  100000\n",
      "68.29  precents of the numbers fall between -1 and 1 when n equals  1000000\n"
     ]
    }
   ],
   "source": [
    "n = 0\n",
    "\n",
    "print(\"The expected value of the E(x), where E is a method that generates a random number based on normal distribution, is 0.68\")\n",
    "print(\"As the Law of Large Numbers works, as we will increase the number of samples N the E(x) will converge to 0.68\")\n",
    "print(\"\\n\\n\\n\")\n",
    "\n",
    "\n",
    "for i in range(1, 7):\n",
    "    n = pow(10, i)\n",
    "    counter = 0\n",
    "    for m in randn(n):\n",
    "        if (m >= -1 and m <= 1):\n",
    "            counter += 1\n",
    "    print(round((counter/n) * 100, 2), \" precents of the numbers fall between -1 and 1 when n equals \", n)\n",
    "    \n"
   ]
  }
 ],
 "metadata": {
  "kernelspec": {
   "display_name": "Python 3",
   "language": "python",
   "name": "python3"
  },
  "language_info": {
   "codemirror_mode": {
    "name": "ipython",
    "version": 3
   },
   "file_extension": ".py",
   "mimetype": "text/x-python",
   "name": "python",
   "nbconvert_exporter": "python",
   "pygments_lexer": "ipython3",
   "version": "3.9.2"
  }
 },
 "nbformat": 4,
 "nbformat_minor": 5
}
